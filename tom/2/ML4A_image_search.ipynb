{
  "nbformat": 4,
  "nbformat_minor": 0,
  "metadata": {
    "colab": {
      "name": "ML4A_image-search.ipynb",
      "provenance": [],
      "collapsed_sections": [],
      "toc_visible": true
    },
    "kernelspec": {
      "name": "python3",
      "display_name": "Python 3"
    },
    "accelerator": "GPU"
  },
  "cells": [
    {
      "cell_type": "markdown",
      "metadata": {
        "id": "jw96lUzwtJk1"
      },
      "source": [
        "# Feature extraction and reverse image search\n",
        "\n",
        "This notebook will guide you through the procedure of analyzing a large set of images using a pre-trained convolutional network, extracting feature vectors for each one which represent each image. \n",
        "\n",
        "After the analysis is done, we will review some retrieval tasks that you can do with such an analysis. The main task will be that of \"reverse image search,\" which refers to searching for the most similar set of images to some query image. \n",
        "\n",
        "For an introduction into feature extraction, see the previous notebook `feature_extraction.ipynb`.\n",
        "\n",
        "### Prepare a dataset\n",
        "\n",
        "You will need a folder of images to analyze. There is no limit to the size of the dataset, but for good results, at least 1000 would be good.\n",
        "\n",
        "This notebook will use an example dataset called [Caltech-101](http://www.vision.caltech.edu/Image_Datasets/Caltech101/), which contains roughly 9000 images in 101 categories. You may have already downloaded this dataset from the previous notebook, `7a_transfer_learning.ipynb`. If not, please download it from [here](http://www.vision.caltech.edu/Image_Datasets/Caltech101/101_ObjectCategories.tar.gz) and unzip it into the `data` folder, or just run the following commands in a terminal from the folder this notebook is in.\n",
        "\n",
        "    wget http://www.vision.caltech.edu/Image_Datasets/Caltech101/101_ObjectCategories.tar.gz\n",
        "    tar -xvzf 101_ObjectCategories.tar.gz\n",
        "    \n",
        "You may use a custom folder of images (which may have subfolders) instead if you wish."
      ]
    },
    {
      "cell_type": "markdown",
      "metadata": {
        "id": "u5y_fgURtJk4"
      },
      "source": [
        "We'll start by importing the relevant Keras libraries that we'll be using."
      ]
    },
    {
      "cell_type": "code",
      "metadata": {
        "id": "cd-cYZlz0tVU",
        "colab": {
          "base_uri": "https://localhost:8080/"
        },
        "outputId": "569123ed-cc3b-4aea-8d5f-3ff6e25b55a1"
      },
      "source": [
        "%tensorflow_version 1.x"
      ],
      "execution_count": 3,
      "outputs": [
        {
          "output_type": "stream",
          "name": "stdout",
          "text": [
            "TensorFlow 1.x selected.\n"
          ]
        }
      ]
    },
    {
      "cell_type": "code",
      "source": [
        "# Let's look at the processor we're running\n",
        "!nvidia-smi"
      ],
      "metadata": {
        "colab": {
          "base_uri": "https://localhost:8080/"
        },
        "id": "ELdX8KInjEdD",
        "outputId": "0fbaab21-15a7-4c29-d0f6-614143d052db"
      },
      "execution_count": 4,
      "outputs": [
        {
          "output_type": "stream",
          "name": "stdout",
          "text": [
            "Mon Feb  7 14:25:09 2022       \n",
            "+-----------------------------------------------------------------------------+\n",
            "| NVIDIA-SMI 460.32.03    Driver Version: 460.32.03    CUDA Version: 11.2     |\n",
            "|-------------------------------+----------------------+----------------------+\n",
            "| GPU  Name        Persistence-M| Bus-Id        Disp.A | Volatile Uncorr. ECC |\n",
            "| Fan  Temp  Perf  Pwr:Usage/Cap|         Memory-Usage | GPU-Util  Compute M. |\n",
            "|                               |                      |               MIG M. |\n",
            "|===============================+======================+======================|\n",
            "|   0  Tesla T4            Off  | 00000000:00:04.0 Off |                    0 |\n",
            "| N/A   33C    P8     9W /  70W |      0MiB / 15109MiB |      0%      Default |\n",
            "|                               |                      |                  N/A |\n",
            "+-------------------------------+----------------------+----------------------+\n",
            "                                                                               \n",
            "+-----------------------------------------------------------------------------+\n",
            "| Processes:                                                                  |\n",
            "|  GPU   GI   CI        PID   Type   Process name                  GPU Memory |\n",
            "|        ID   ID                                                   Usage      |\n",
            "|=============================================================================|\n",
            "|  No running processes found                                                 |\n",
            "+-----------------------------------------------------------------------------+\n"
          ]
        }
      ]
    },
    {
      "cell_type": "code",
      "metadata": {
        "id": "HQ8IRjEAtJk5",
        "colab": {
          "base_uri": "https://localhost:8080/"
        },
        "outputId": "5051dd34-0aef-4bde-a084-90a1403758d7"
      },
      "source": [
        "import os\n",
        "import keras\n",
        "from keras.preprocessing import image\n",
        "from keras.applications.imagenet_utils import decode_predictions, preprocess_input\n",
        "from keras.models import Model"
      ],
      "execution_count": 5,
      "outputs": [
        {
          "output_type": "stream",
          "name": "stderr",
          "text": [
            "Using TensorFlow backend.\n"
          ]
        }
      ]
    },
    {
      "cell_type": "markdown",
      "metadata": {
        "id": "-N3Xl-o6tJlC"
      },
      "source": [
        "We will load a previously-trained neural network, that of VGG16, which comes with Keras. If it's your first time loading it, it will automatically download the weights for you, which will take some time. Afterwards, the weights will be cached locally for future use. Keras has a number of other [pre-trained networs](https://keras.io/applications/) which you can try as well."
      ]
    },
    {
      "cell_type": "code",
      "metadata": {
        "id": "XLZTcsEbtJlE",
        "colab": {
          "base_uri": "https://localhost:8080/"
        },
        "outputId": "cba14cc1-875c-450d-fa2d-ffd7bb748d73"
      },
      "source": [
        "model = keras.applications.VGG16(weights='imagenet', include_top=True)"
      ],
      "execution_count": 6,
      "outputs": [
        {
          "output_type": "stream",
          "name": "stdout",
          "text": [
            "WARNING:tensorflow:From /tensorflow-1.15.2/python3.7/tensorflow_core/python/ops/resource_variable_ops.py:1630: calling BaseResourceVariable.__init__ (from tensorflow.python.ops.resource_variable_ops) with constraint is deprecated and will be removed in a future version.\n",
            "Instructions for updating:\n",
            "If using Keras pass *_constraint arguments to layers.\n",
            "WARNING:tensorflow:From /tensorflow-1.15.2/python3.7/keras/backend/tensorflow_backend.py:4070: The name tf.nn.max_pool is deprecated. Please use tf.nn.max_pool2d instead.\n",
            "\n",
            "Downloading data from https://github.com/fchollet/deep-learning-models/releases/download/v0.1/vgg16_weights_tf_dim_ordering_tf_kernels.h5\n",
            "553467904/553467096 [==============================] - 3s 0us/step\n"
          ]
        }
      ]
    },
    {
      "cell_type": "markdown",
      "metadata": {
        "id": "7cwLAIUgtJlH"
      },
      "source": [
        "Let's look at the model summary to see how it's structured."
      ]
    },
    {
      "cell_type": "code",
      "metadata": {
        "id": "YJjutqWKtJlH",
        "colab": {
          "base_uri": "https://localhost:8080/"
        },
        "outputId": "aa35ae1f-d049-4ea4-8ac7-ad997f6539c1"
      },
      "source": [
        "model.summary()"
      ],
      "execution_count": 7,
      "outputs": [
        {
          "output_type": "stream",
          "name": "stdout",
          "text": [
            "Model: \"vgg16\"\n",
            "_________________________________________________________________\n",
            "Layer (type)                 Output Shape              Param #   \n",
            "=================================================================\n",
            "input_1 (InputLayer)         (None, 224, 224, 3)       0         \n",
            "_________________________________________________________________\n",
            "block1_conv1 (Conv2D)        (None, 224, 224, 64)      1792      \n",
            "_________________________________________________________________\n",
            "block1_conv2 (Conv2D)        (None, 224, 224, 64)      36928     \n",
            "_________________________________________________________________\n",
            "block1_pool (MaxPooling2D)   (None, 112, 112, 64)      0         \n",
            "_________________________________________________________________\n",
            "block2_conv1 (Conv2D)        (None, 112, 112, 128)     73856     \n",
            "_________________________________________________________________\n",
            "block2_conv2 (Conv2D)        (None, 112, 112, 128)     147584    \n",
            "_________________________________________________________________\n",
            "block2_pool (MaxPooling2D)   (None, 56, 56, 128)       0         \n",
            "_________________________________________________________________\n",
            "block3_conv1 (Conv2D)        (None, 56, 56, 256)       295168    \n",
            "_________________________________________________________________\n",
            "block3_conv2 (Conv2D)        (None, 56, 56, 256)       590080    \n",
            "_________________________________________________________________\n",
            "block3_conv3 (Conv2D)        (None, 56, 56, 256)       590080    \n",
            "_________________________________________________________________\n",
            "block3_pool (MaxPooling2D)   (None, 28, 28, 256)       0         \n",
            "_________________________________________________________________\n",
            "block4_conv1 (Conv2D)        (None, 28, 28, 512)       1180160   \n",
            "_________________________________________________________________\n",
            "block4_conv2 (Conv2D)        (None, 28, 28, 512)       2359808   \n",
            "_________________________________________________________________\n",
            "block4_conv3 (Conv2D)        (None, 28, 28, 512)       2359808   \n",
            "_________________________________________________________________\n",
            "block4_pool (MaxPooling2D)   (None, 14, 14, 512)       0         \n",
            "_________________________________________________________________\n",
            "block5_conv1 (Conv2D)        (None, 14, 14, 512)       2359808   \n",
            "_________________________________________________________________\n",
            "block5_conv2 (Conv2D)        (None, 14, 14, 512)       2359808   \n",
            "_________________________________________________________________\n",
            "block5_conv3 (Conv2D)        (None, 14, 14, 512)       2359808   \n",
            "_________________________________________________________________\n",
            "block5_pool (MaxPooling2D)   (None, 7, 7, 512)         0         \n",
            "_________________________________________________________________\n",
            "flatten (Flatten)            (None, 25088)             0         \n",
            "_________________________________________________________________\n",
            "fc1 (Dense)                  (None, 4096)              102764544 \n",
            "_________________________________________________________________\n",
            "fc2 (Dense)                  (None, 4096)              16781312  \n",
            "_________________________________________________________________\n",
            "predictions (Dense)          (None, 1000)              4097000   \n",
            "=================================================================\n",
            "Total params: 138,357,544\n",
            "Trainable params: 138,357,544\n",
            "Non-trainable params: 0\n",
            "_________________________________________________________________\n"
          ]
        }
      ]
    },
    {
      "cell_type": "code",
      "metadata": {
        "id": "X67WwOau0mA5",
        "colab": {
          "base_uri": "https://localhost:8080/"
        },
        "outputId": "4a4280e6-6ed0-410b-f2e8-3b6294418ddd"
      },
      "source": [
        "from google.colab import drive\n",
        "drive.mount('/content/gdrive')"
      ],
      "execution_count": 8,
      "outputs": [
        {
          "output_type": "stream",
          "name": "stdout",
          "text": [
            "Mounted at /content/gdrive\n"
          ]
        }
      ]
    },
    {
      "cell_type": "code",
      "source": [
        "!ls ./gdrive/MyDrive/101_ObjectCategories"
      ],
      "metadata": {
        "colab": {
          "base_uri": "https://localhost:8080/"
        },
        "id": "5x_8KMitcI34",
        "outputId": "a927cf61-c7f5-4146-a557-a35943f31035"
      },
      "execution_count": 9,
      "outputs": [
        {
          "output_type": "stream",
          "name": "stdout",
          "text": [
            "accordion\t   cougar_body\t    garfield\t  menorah     snoopy\n",
            "airplanes\t   cougar_face\t    gerenuk\t  metronome   soccer_ball\n",
            "anchor\t\t   crab\t\t    gramophone\t  minaret     stapler\n",
            "ant\t\t   crocodile\t    grand_piano   Motorbikes  starfish\n",
            "BACKGROUND_Google  crocodile_head   hawksbill\t  nautilus    stegosaurus\n",
            "barrel\t\t   cup\t\t    headphone\t  octopus     stop_sign\n",
            "bass\t\t   dalmatian\t    hedgehog\t  okapi       strawberry\n",
            "beaver\t\t   dollar_bill\t    helicopter\t  pagoda      sunflower\n",
            "binocular\t   dolphin\t    ibis\t  panda       tick\n",
            "bonsai\t\t   dragonfly\t    inline_skate  pigeon      tmp\n",
            "brain\t\t   electric_guitar  joshua_tree   pizza       trilobite\n",
            "brontosaurus\t   elephant\t    kangaroo\t  platypus    umbrella\n",
            "buddha\t\t   emu\t\t    ketch\t  pyramid     watch\n",
            "butterfly\t   euphonium\t    lamp\t  revolver    water_lilly\n",
            "camera\t\t   ewer\t\t    laptop\t  rhino       wheelchair\n",
            "cannon\t\t   Faces\t    Leopards\t  rooster     wild_cat\n",
            "car_side\t   Faces_easy\t    llama\t  saxophone   windsor_chair\n",
            "ceiling_fan\t   ferry\t    lobster\t  schooner    wrench\n",
            "cellphone\t   flamingo\t    lotus\t  scissors    yin_yang\n",
            "chair\t\t   flamingo_head    mandolin\t  scorpion\n",
            "chandelier\t   foo\t\t    mayfly\t  sea_horse\n"
          ]
        }
      ]
    },
    {
      "cell_type": "markdown",
      "metadata": {
        "id": "AUfA0gvMtJlM"
      },
      "source": [
        "The summary gives us a layer-by-layer description of the network. Notice that VGG16 is a deep network with 13 convolutional layers. It was previously trained on millions of images, and has over 100,000,000 weights and biases, the majority of which connect to the first fully-connected layer (fc1). VGG-16 is setup to take a fixed-size (224 x 224 x 3) RGB image at its input, and then forward it through a series of altrnating convolutional and max-pooling layers, then capped off by three fully-connected layers of 4096, 4096, and 1000 neurons, where the last layer is our softmax classification layer.\n",
        "\n",
        "Notice that the output shape at each layer has `None` the first dimension. This is because the network can process multiple images in a single batch. So if you forward 5 images at shape [5, 224, 224, 3], then the output shape at each layer will be 5 in the first dimension."
      ]
    },
    {
      "cell_type": "markdown",
      "metadata": {
        "id": "E0KtPLZTtJlN"
      },
      "source": [
        "### Forwarding an image through the network\n",
        "\n",
        "In order to input an image into the network, it has to be pre-processed into a feature vector of the correct size. To help us do this, we will create a function `load_image(path)` which will handle the usual pre-processing steps: load an image from our file system and turn it into an input vector of the correct dimensions, those expected by VGG16, namely a color image of size 224x224."
      ]
    },
    {
      "cell_type": "code",
      "metadata": {
        "id": "SqOr-Bv6tJlO"
      },
      "source": [
        "import numpy as np\n",
        "import matplotlib.pyplot as plt\n",
        "\n",
        "def load_image(path):\n",
        "    img = image.load_img(path, target_size=model.input_shape[1:3])\n",
        "    x = image.img_to_array(img)\n",
        "    x = np.expand_dims(x, axis=0)\n",
        "    x = preprocess_input(x)\n",
        "    return img, x"
      ],
      "execution_count": 10,
      "outputs": []
    },
    {
      "cell_type": "markdown",
      "metadata": {
        "id": "78pMyAjitJlR"
      },
      "source": [
        "We'll load an image the `brain` directory, and take a look at its data vector."
      ]
    },
    {
      "cell_type": "code",
      "metadata": {
        "id": "6_qJxjr5tJlS",
        "colab": {
          "base_uri": "https://localhost:8080/",
          "height": 599
        },
        "outputId": "fef46b5e-4cb5-4a86-e581-c56cd4280a59"
      },
      "source": [
        "!ls ./gdrive/MyDrive/101_ObjectCategories/brain\n",
        "img, x = load_image(\"./gdrive/MyDrive/101_ObjectCategories/brain/image_0045.jpg\")\n",
        "print(\"shape of x: \", x.shape)\n",
        "print(\"data type: \", x.dtype)\n",
        "plt.imshow(img)"
      ],
      "execution_count": 11,
      "outputs": [
        {
          "output_type": "stream",
          "name": "stdout",
          "text": [
            "image_0001.jpg\timage_0017.jpg\timage_0033.jpg\timage_0049.jpg\timage_0065.jpg\n",
            "image_0002.jpg\timage_0018.jpg\timage_0034.jpg\timage_0050.jpg\timage_0066.jpg\n",
            "image_0003.jpg\timage_0019.jpg\timage_0035.jpg\timage_0051.jpg\timage_0067.jpg\n",
            "image_0004.jpg\timage_0020.jpg\timage_0036.jpg\timage_0052.jpg\timage_0068.jpg\n",
            "image_0005.jpg\timage_0021.jpg\timage_0037.jpg\timage_0053.jpg\timage_0069.jpg\n",
            "image_0006.jpg\timage_0022.jpg\timage_0038.jpg\timage_0054.jpg\timage_0070.jpg\n",
            "image_0007.jpg\timage_0023.jpg\timage_0039.jpg\timage_0055.jpg\timage_0071.jpg\n",
            "image_0008.jpg\timage_0024.jpg\timage_0040.jpg\timage_0056.jpg\timage_0072.jpg\n",
            "image_0009.jpg\timage_0025.jpg\timage_0041.jpg\timage_0057.jpg\timage_0073.jpg\n",
            "image_0010.jpg\timage_0026.jpg\timage_0042.jpg\timage_0058.jpg\timage_0074.jpg\n",
            "image_0011.jpg\timage_0027.jpg\timage_0043.jpg\timage_0059.jpg\timage_0075.jpg\n",
            "image_0012.jpg\timage_0028.jpg\timage_0044.jpg\timage_0060.jpg\timage_0076.jpg\n",
            "image_0013.jpg\timage_0029.jpg\timage_0045.jpg\timage_0061.jpg\timage_0077.jpg\n",
            "image_0014.jpg\timage_0030.jpg\timage_0046.jpg\timage_0062.jpg\timage_0078.jpg\n",
            "image_0015.jpg\timage_0031.jpg\timage_0047.jpg\timage_0063.jpg\timage_0079.jpg\n",
            "image_0016.jpg\timage_0032.jpg\timage_0048.jpg\timage_0064.jpg\timage_0080.jpg\n",
            "shape of x:  (1, 224, 224, 3)\n",
            "data type:  float32\n"
          ]
        },
        {
          "output_type": "execute_result",
          "data": {
            "text/plain": [
              "<matplotlib.image.AxesImage at 0x7fc8f00a6110>"
            ]
          },
          "metadata": {},
          "execution_count": 11
        },
        {
          "output_type": "display_data",
          "data": {
            "image/png": "[encoded data removed]",
            "text/plain": [
              "<Figure size 432x288 with 1 Axes>"
            ]
          },
          "metadata": {
            "needs_background": "light"
          }
        }
      ]
    },
    {
      "cell_type": "markdown",
      "metadata": {
        "id": "dcyLe4rktJlV"
      },
      "source": [
        "The shape of the image is [1, 224, 224, 3]. The reason it has the extra first dimension with 1 element is that the network can take batches of images to process them all simultaneously. So for example, 10 images can be propagated through the network if `x` has a shape of [10, 224, 224, 3].\n",
        "\n",
        "Let's get class predictions from this model. We forward `x` through `model` and then use the built-in `decode_predictions` to look up the class names."
      ]
    },
    {
      "cell_type": "code",
      "metadata": {
        "id": "X5UUdNHFtJlX",
        "colab": {
          "base_uri": "https://localhost:8080/"
        },
        "outputId": "4cab3a07-fc92-47a7-acab-26a2cbef9b7c"
      },
      "source": [
        "# forward the image through the network\n",
        "predictions = model.predict(x)\n",
        "\n",
        "# print out the \n",
        "for _, pred, prob in decode_predictions(predictions)[0]:\n",
        "    print(\"predicted %s with probability %0.3f\" % (pred, prob))"
      ],
      "execution_count": 12,
      "outputs": [
        {
          "output_type": "stream",
          "name": "stdout",
          "text": [
            "WARNING:tensorflow:From /tensorflow-1.15.2/python3.7/keras/backend/tensorflow_backend.py:422: The name tf.global_variables is deprecated. Please use tf.compat.v1.global_variables instead.\n",
            "\n",
            "Downloading data from https://storage.googleapis.com/download.tensorflow.org/data/imagenet_class_index.json\n",
            "40960/35363 [==================================] - 0s 0us/step\n",
            "predicted envelope with probability 0.656\n",
            "predicted web_site with probability 0.211\n",
            "predicted menu with probability 0.033\n",
            "predicted binder with probability 0.016\n",
            "predicted handkerchief with probability 0.010\n"
          ]
        }
      ]
    },
    {
      "cell_type": "markdown",
      "metadata": {
        "id": "oqvb2ZsOtJlb"
      },
      "source": [
        "### Feature extraction\n",
        "\n",
        "What we have in the `model` variable is a highly effective image classifier trained on the ImageNet database. We expect that the classifier must form a very effective representation of the image in order to be able to classify it with such high accuracy. We can use this to our advantage by re-purposing this for another task.\n",
        "\n",
        "What we do is we copy the model, but remove the last layer (the classification layer), so that the final layer of the new network, called `feat_extractor` is the second 4096-neuron fully-connected layer, \"fc2 (Dense)\".\n",
        "\n",
        "The way we do this is by instantiating a new model called `feature_extractor` which takes a reference to the desired input and output layers in our VGG16 model. Thus, `feature_extractor`'s output is the layer just before the classification, the last 4096-neuron fully connected layer. It looks like a copy, but internally, all Keras is doing is making a pointer to each of these layers and not actually copying anything. Thus, the output \"prediction\" from `feat_extractor` will just be the layer `fc2` from `model`.\n",
        "\n",
        "If we run the `summary()` function again, we see that the architecture of `feat_extractor` is identical to the original `model`, except the last layer has been removed. We also know that not just the architecture is the same, but the two have the same weights as well."
      ]
    },
    {
      "cell_type": "code",
      "metadata": {
        "id": "fcErc59xtJlc",
        "colab": {
          "base_uri": "https://localhost:8080/"
        },
        "outputId": "2548f919-3ae0-4e58-db4d-a14ff04d8342"
      },
      "source": [
        "feat_extractor = Model(inputs=model.input, outputs=model.get_layer(\"fc2\").output)\n",
        "feat_extractor.summary()"
      ],
      "execution_count": 13,
      "outputs": [
        {
          "output_type": "stream",
          "name": "stdout",
          "text": [
            "Model: \"model_1\"\n",
            "_________________________________________________________________\n",
            "Layer (type)                 Output Shape              Param #   \n",
            "=================================================================\n",
            "input_1 (InputLayer)         (None, 224, 224, 3)       0         \n",
            "_________________________________________________________________\n",
            "block1_conv1 (Conv2D)        (None, 224, 224, 64)      1792      \n",
            "_________________________________________________________________\n",
            "block1_conv2 (Conv2D)        (None, 224, 224, 64)      36928     \n",
            "_________________________________________________________________\n",
            "block1_pool (MaxPooling2D)   (None, 112, 112, 64)      0         \n",
            "_________________________________________________________________\n",
            "block2_conv1 (Conv2D)        (None, 112, 112, 128)     73856     \n",
            "_________________________________________________________________\n",
            "block2_conv2 (Conv2D)        (None, 112, 112, 128)     147584    \n",
            "_________________________________________________________________\n",
            "block2_pool (MaxPooling2D)   (None, 56, 56, 128)       0         \n",
            "_________________________________________________________________\n",
            "block3_conv1 (Conv2D)        (None, 56, 56, 256)       295168    \n",
            "_________________________________________________________________\n",
            "block3_conv2 (Conv2D)        (None, 56, 56, 256)       590080    \n",
            "_________________________________________________________________\n",
            "block3_conv3 (Conv2D)        (None, 56, 56, 256)       590080    \n",
            "_________________________________________________________________\n",
            "block3_pool (MaxPooling2D)   (None, 28, 28, 256)       0         \n",
            "_________________________________________________________________\n",
            "block4_conv1 (Conv2D)        (None, 28, 28, 512)       1180160   \n",
            "_________________________________________________________________\n",
            "block4_conv2 (Conv2D)        (None, 28, 28, 512)       2359808   \n",
            "_________________________________________________________________\n",
            "block4_conv3 (Conv2D)        (None, 28, 28, 512)       2359808   \n",
            "_________________________________________________________________\n",
            "block4_pool (MaxPooling2D)   (None, 14, 14, 512)       0         \n",
            "_________________________________________________________________\n",
            "block5_conv1 (Conv2D)        (None, 14, 14, 512)       2359808   \n",
            "_________________________________________________________________\n",
            "block5_conv2 (Conv2D)        (None, 14, 14, 512)       2359808   \n",
            "_________________________________________________________________\n",
            "block5_conv3 (Conv2D)        (None, 14, 14, 512)       2359808   \n",
            "_________________________________________________________________\n",
            "block5_pool (MaxPooling2D)   (None, 7, 7, 512)         0         \n",
            "_________________________________________________________________\n",
            "flatten (Flatten)            (None, 25088)             0         \n",
            "_________________________________________________________________\n",
            "fc1 (Dense)                  (None, 4096)              102764544 \n",
            "_________________________________________________________________\n",
            "fc2 (Dense)                  (None, 4096)              16781312  \n",
            "=================================================================\n",
            "Total params: 134,260,544\n",
            "Trainable params: 134,260,544\n",
            "Non-trainable params: 0\n",
            "_________________________________________________________________\n"
          ]
        }
      ]
    },
    {
      "cell_type": "markdown",
      "metadata": {
        "id": "s0IXb0XUtJlg"
      },
      "source": [
        "Now let's see the feature extractor in action. We pass the same image from before into it, and look at the results. The `predict` function returns an array with one element per image (in our case, there is just one). Each element contains a 4096-element array, which is the activations of the last fully-connected layer `fc2` in VGG16. Let's plot the array as well."
      ]
    },
    {
      "cell_type": "code",
      "metadata": {
        "id": "O4_JKCwstJlh",
        "colab": {
          "base_uri": "https://localhost:8080/",
          "height": 282
        },
        "outputId": "9a8267bd-6d32-4b47-ab14-ee8ee59581ad"
      },
      "source": [
        "img, x = load_image(\"./gdrive/MyDrive/101_ObjectCategories/brain/image_0045.jpg\")\n",
        "feat = feat_extractor.predict(x)\n",
        "\n",
        "plt.figure(figsize=(16,4))\n",
        "plt.plot(feat[0])"
      ],
      "execution_count": 14,
      "outputs": [
        {
          "output_type": "execute_result",
          "data": {
            "text/plain": [
              "[<matplotlib.lines.Line2D at 0x7fc897fa2a90>]"
            ]
          },
          "metadata": {},
          "execution_count": 14
        },
        {
          "output_type": "display_data",
          "data": {
            "image/png": "[encoded data removed]",
            "text/plain": [
              "<Figure size 1152x288 with 1 Axes>"
            ]
          },
          "metadata": {
            "needs_background": "light"
          }
        }
      ]
    },
    {
      "cell_type": "markdown",
      "metadata": {
        "id": "wF_lKFKWtJll"
      },
      "source": [
        "Our expectation is that the `fc2` activations form a very good representation of the image, such that similar images should produce similar activations. In other words, the `fc2` activations of two images which have similar content should be very close to each other. We can exploit this to do information retrieval. \n",
        "\n",
        "In the next cell, we will open a folder of images for analysis. First, the next cell will just recursively crawl the folder specified by `image_path` looking for images of the extensions inside of `image_extensions` and then limiting them to a random subset of maximum `max_num_images` images. Change these variables if you wish to change the target images."
      ]
    },
    {
      "cell_type": "code",
      "metadata": {
        "id": "111VOoZltJln",
        "colab": {
          "base_uri": "https://localhost:8080/"
        },
        "outputId": "731eef50-9e70-4ea5-f90e-283b09ad577d"
      },
      "source": [
        "images_path = './gdrive/MyDrive/101_ObjectCategories'\n",
        "image_extensions = ['.jpg', '.png', '.jpeg']   # case-insensitive (upper/lower doesn't matter)\n",
        "max_num_images = 10000\n",
        "\n",
        "images = [os.path.join(dp, f) for dp, dn, filenames in os.walk(images_path) for f in filenames if os.path.splitext(f)[1].lower() in image_extensions]\n",
        "if max_num_images < len(images):\n",
        "    images = [images[i] for i in sorted(random.sample(xrange(len(images)), max_num_images))]\n",
        "\n",
        "print(\"keeping %d images to analyze\" % len(images))"
      ],
      "execution_count": 15,
      "outputs": [
        {
          "output_type": "stream",
          "name": "stdout",
          "text": [
            "keeping 8344 images to analyze\n"
          ]
        }
      ]
    },
    {
      "cell_type": "markdown",
      "metadata": {
        "id": "tZa9ETq3tJlq"
      },
      "source": [
        "In the next cell, we will begin a loop which will open each image, extract its feature vector, and append it to a list called `features` which will contain our activations for each image. This process may take a long time depending on your graphics card, so you may need to leave it running for as much as a few hours. On a good graphics card, this process may only take a half hour or so. Every 1000 images, you will receive a notification print-out."
      ]
    },
    {
      "cell_type": "code",
      "source": [
        "import time\n",
        "t0 = time.time()\n",
        "tLast = t0\n",
        "\n",
        "features = []\n",
        "for i, image_path in enumerate(images):\n",
        "    if i % 500 == 0:\n",
        "        tNow = time.time()\n",
        "        elap = tNow-tLast;\n",
        "        tLast = tNow\n",
        "        print(\"analyzing image %d / %d. Time: %4.4f seconds.\" % (i, len(images),elap))\n",
        "    img, x = load_image(image_path);\n",
        "    feat = feat_extractor.predict(x)[0]\n",
        "    features.append(feat)\n",
        "    # For testing, look at subset\n",
        "    #if i==800:\n",
        "    #  break;\n",
        "\n",
        "elap = tNow-t0;\n",
        "print('finished extracting features for %d images' % len(images))\n",
        "print(\"Total time: %5.4f seconds.\" % elap)"
      ],
      "metadata": {
        "colab": {
          "base_uri": "https://localhost:8080/"
        },
        "id": "KN0aL6wbi7fC",
        "outputId": "26b9788e-0f14-4822-abef-a032947d400f"
      },
      "execution_count": 24,
      "outputs": [
        {
          "output_type": "stream",
          "name": "stdout",
          "text": [
            "analyzing image 0 / 8344. Time: 0.0001 seconds.\n",
            "analyzing image 200 / 8344. Time: 2.7009 seconds.\n",
            "analyzing image 400 / 8344. Time: 51.4036 seconds.\n",
            "analyzing image 600 / 8344. Time: 50.8536 seconds.\n",
            "analyzing image 800 / 8344. Time: 50.2607 seconds.\n",
            "finished extracting features for 8344 images\n",
            "Total time: 155.2189 seconds.\n"
          ]
        }
      ]
    },
    {
      "cell_type": "markdown",
      "metadata": {
        "id": "KUqhGryMtJlv"
      },
      "source": [
        "Alone, these activations provide a good representation, but it is a good idea to do one more step before using these as our feature vectors, which is to do a [principal component analysis (PCA)](https://en.wikipedia.org/wiki/Principal_component_analysis) to reduce the dimensionality of our feature vectors down to 300. We apply PCA for two reasons: 1) the 4096-bit feature vector may have some redundancy in it, such that multiple elements in the vector are highly correlated or similar. This would skew similarity comparisons towards those over-represented features. 2) Operating over 4096 elements is inefficient both in terms of space/memory requirements and processor speed, and it would be better for us if we can reduce the length of these vectors but maintain the same effective representation. PCA allows us to do this by reducing the dimensionality down of the feature vectors from 4096 to much less, but maintain a representation which is still faithful to the original data, by preserving the relative inter-point distance.\n",
        "\n",
        "Thus, PCA reduces the amount of redundancy in our features (from duplicate or highly-correlated features), speeds up computation over them, and reduces the amount of memory they take up.\n",
        "\n",
        "The next cell will instantiate a `PCA` object, which we will then fit our data to, choosing to keep the top 300 principal components. This may take a few minutes."
      ]
    },
    {
      "cell_type": "code",
      "metadata": {
        "id": "jRxUuXcktJlv"
      },
      "source": [
        "from sklearn.decomposition import PCA\n",
        "\n",
        "features = np.array(features)\n",
        "pca = PCA(n_components=300)\n",
        "pca.fit(features)"
      ],
      "execution_count": null,
      "outputs": []
    },
    {
      "cell_type": "code",
      "metadata": {
        "id": "kwZ_fHomE6nl"
      },
      "source": [
        ""
      ],
      "execution_count": null,
      "outputs": []
    },
    {
      "cell_type": "markdown",
      "metadata": {
        "id": "78psGGwKtJl2"
      },
      "source": [
        "The `pca` object stores the actual transformation matrix which was fit in the previous cell. We can now use it to transform any original feature vector (of length 4096) into a reduced 300-dimensional feature vector in the principal component space found by the PCA. \n",
        "\n",
        "So we take our original feature vectors, and transform them to the new space."
      ]
    },
    {
      "cell_type": "code",
      "metadata": {
        "id": "CHWH6aVotJl4"
      },
      "source": [
        "pca_features = pca.transform(features)"
      ],
      "execution_count": null,
      "outputs": []
    },
    {
      "cell_type": "code",
      "metadata": {
        "id": "z0epl-XHFC0h"
      },
      "source": [
        ""
      ],
      "execution_count": null,
      "outputs": []
    },
    {
      "cell_type": "markdown",
      "metadata": {
        "id": "-zBdaWGptJl8"
      },
      "source": [
        "We are now ready to do our reverse image queries! The matrix `pca_features` contains a compact representation of our images, one 300-element row for each image with high-level feature detections. We should expect that two similar images, which have similar content in them, should have similar arrays in `pca_features`.\n",
        "\n",
        "Let's pick a random query image."
      ]
    },
    {
      "cell_type": "code",
      "metadata": {
        "id": "0f10Ng-2tJl-"
      },
      "source": [
        "import random\n",
        "\n",
        "# grab a random query image\n",
        "query_image_idx = int(len(images) * random.random())\n",
        "\n",
        "# let's display the image\n",
        "img = image.load_img(images[query_image_idx])\n",
        "plt.imshow(img)"
      ],
      "execution_count": null,
      "outputs": []
    },
    {
      "cell_type": "markdown",
      "metadata": {
        "id": "h9AQWXpitJmB"
      },
      "source": [
        "The assumption we can now make is that two images which have similar content, should produce similar feature vectors. The next two cells will randomly select one image, and then compute a measurement of the dissimilarity (or distance) of that image's PCA feature vector to every other image's feature vector. The dissimilarity metric we use is [cosine distance](https://en.wikipedia.org/wiki/Cosine_similarity). "
      ]
    },
    {
      "cell_type": "code",
      "metadata": {
        "id": "sHvS1LDptJmB"
      },
      "source": [
        "from scipy.spatial import distance\n",
        "\n",
        "similar_idx = [ distance.cosine(pca_features[query_image_idx], feat) for feat in pca_features ]"
      ],
      "execution_count": null,
      "outputs": []
    },
    {
      "cell_type": "markdown",
      "metadata": {
        "id": "CE1tXflUtJmE"
      },
      "source": [
        "The list `similar_idx` contains the image's similarity to every other one. We can sort that list and find the indexes of the most similar images. The next cell will sort them, and then find the most similar items, and return the indexes 5 most similar images. Notice we take from indexes 1:6 rather than 0:5 because the most similar image to the query image, will trivially be the query image itself, since it is included in the distance calculation. So we just skip it."
      ]
    },
    {
      "cell_type": "code",
      "metadata": {
        "id": "bueoSZ_DtJmE"
      },
      "source": [
        "idx_closest = sorted(range(len(similar_idx)), key=lambda k: similar_idx[k])[1:6]"
      ],
      "execution_count": null,
      "outputs": []
    },
    {
      "cell_type": "markdown",
      "metadata": {
        "id": "Mp62G2rytJmG"
      },
      "source": [
        "The next cell opens the images specified by `idx_closest` and concatenates them into a single image (resizing each so it has a height of 100 pixels."
      ]
    },
    {
      "cell_type": "code",
      "metadata": {
        "id": "j-BZmbB0tJmK"
      },
      "source": [
        "# load all the similarity results as thumbnails of height 100\n",
        "thumbs = []\n",
        "for idx in idx_closest:\n",
        "    img = image.load_img(images[idx])\n",
        "    img = img.resize((int(img.width * 100 / img.height), 100))\n",
        "    thumbs.append(img)\n",
        "\n",
        "# concatenate the images into a single image\n",
        "concat_image = np.concatenate([np.asarray(t) for t in thumbs], axis=1)\n",
        "\n",
        "# show the image\n",
        "plt.figure(figsize = (16,12))\n",
        "plt.imshow(concat_image)\n"
      ],
      "execution_count": null,
      "outputs": []
    },
    {
      "cell_type": "markdown",
      "metadata": {
        "id": "5nsKioYatJmN"
      },
      "source": [
        "For convenience, we'll automate this process by defining the function `get_closest_images`, which will compute the cosine distance between the PCA features of `query_image_idx`-th image in our dataset, and the PCA features of every image in the dataset (including itself, trivially 0). It then returns an array of indices to the `num_results` (default is 5) most similar images to it (not including itself). \n",
        "\n",
        "We also define a helper function `get_concatenated_images` which will simply take those resulting images and concatenate them into a single image for easy display."
      ]
    },
    {
      "cell_type": "code",
      "metadata": {
        "id": "BCUmaSWZtJmO"
      },
      "source": [
        "def get_closest_images(query_image_idx, num_results=5):\n",
        "    distances = [ distance.cosine(pca_features[query_image_idx], feat) for feat in pca_features ]\n",
        "    idx_closest = sorted(range(len(distances)), key=lambda k: distances[k])[1:num_results+1]\n",
        "    return idx_closest\n",
        "\n",
        "def get_concatenated_images(indexes, thumb_height):\n",
        "    thumbs = []\n",
        "    for idx in indexes:\n",
        "        img = image.load_img(images[idx])\n",
        "        img = img.resize((int(img.width * thumb_height / img.height), thumb_height))\n",
        "        thumbs.append(img)\n",
        "    concat_image = np.concatenate([np.asarray(t) for t in thumbs], axis=1)\n",
        "    return concat_image\n"
      ],
      "execution_count": null,
      "outputs": []
    },
    {
      "cell_type": "markdown",
      "metadata": {
        "id": "iovE16qEtJmQ"
      },
      "source": [
        "So now we can do our lookups like this:"
      ]
    },
    {
      "cell_type": "code",
      "metadata": {
        "id": "48PKfALYtJmQ"
      },
      "source": [
        "# do a query on a random image\n",
        "query_image_idx = int(len(images) * random.random())\n",
        "idx_closest = get_closest_images(query_image_idx)\n",
        "query_image = get_concatenated_images([query_image_idx], 300)\n",
        "results_image = get_concatenated_images(idx_closest, 200)\n",
        "\n",
        "# display the query image\n",
        "plt.figure(figsize = (5,5))\n",
        "plt.imshow(query_image)\n",
        "plt.title(\"query image (%d)\" % query_image_idx)\n",
        "\n",
        "# display the resulting images\n",
        "plt.figure(figsize = (16,12))\n",
        "plt.imshow(results_image)\n",
        "plt.title(\"result images\")"
      ],
      "execution_count": null,
      "outputs": []
    },
    {
      "cell_type": "markdown",
      "metadata": {
        "id": "jgi0XeIctJmV"
      },
      "source": [
        "And again..."
      ]
    },
    {
      "cell_type": "code",
      "metadata": {
        "id": "5o-97W7OtJmV"
      },
      "source": [
        "# do a query on a random image\n",
        "query_image_idx = int(len(images) * random.random())\n",
        "idx_closest = get_closest_images(query_image_idx)\n",
        "query_image = get_concatenated_images([query_image_idx], 300)\n",
        "results_image = get_concatenated_images(idx_closest, 200)\n",
        "\n",
        "# display the query image\n",
        "plt.figure(figsize = (5,5))\n",
        "plt.imshow(query_image)\n",
        "plt.title(\"query image (%d)\" % query_image_idx)\n",
        "\n",
        "# display the resulting images\n",
        "plt.figure(figsize = (16,12))\n",
        "plt.imshow(results_image)\n",
        "plt.title(\"result images\")"
      ],
      "execution_count": null,
      "outputs": []
    },
    {
      "cell_type": "markdown",
      "metadata": {
        "id": "Wp6UpIWstJmZ"
      },
      "source": [
        "## Importing new images\n",
        "\n",
        "What if you load a new image which was not previously in the analysis?  For that, we can simply run it through the same process by extracting its feature vector, and projecting it into our PCA space using the saved pca object. So for example..."
      ]
    },
    {
      "cell_type": "code",
      "metadata": {
        "id": "RYvlsCfDtJma"
      },
      "source": [
        "#from google.colab import drive\n",
        "#drive.mount('/content/gdrive', force_remount=True)\n",
        "\n",
        "# load image and extract features\n",
        "#new_image, x = load_image(\"/content/gdrive/My Drive/newequipment.jpg\")\n",
        "#new_features = feat_extractor.predict(x)\n",
        "\n",
        "# project it into pca space\n",
        "#new_pca_features = pca.transform(new_features)[0]\n",
        "\n",
        "# calculate its distance to all the other images pca feature vectors\n",
        "#distances = [ distance.cosine(new_pca_features, feat) for feat in pca_features ]\n",
        "#idx_closest = sorted(range(len(distances)), key=lambda k: distances[k])[0:5]  # grab first 5\n",
        "#results_image = get_concatenated_images(idx_closest, 200)\n",
        "\n",
        "# display the results\n",
        "#plt.figure(figsize = (5,5))\n",
        "#plt.imshow(new_image)\n",
        "#plt.title(\"query image\")\n",
        "\n",
        "# display the resulting images\n",
        "#plt.figure(figsize = (16,12))\n",
        "#plt.imshow(results_image)\n",
        "#plt.title(\"result images\")"
      ],
      "execution_count": null,
      "outputs": []
    },
    {
      "cell_type": "markdown",
      "metadata": {
        "id": "BJLYsfbLtJmd"
      },
      "source": [
        "Thus we can see the usefulness of feature vectors for tasks other than classification. Besides for similarity retrieval, these feature vectors can be broadly useful for other things. If we are satisfied with the quality of our image vectors, now would be a good time to save them to disk for later usage. You will need these vectors to run the [next notebook on making an image t-SNE](image-tsne.ipynb).\n",
        "\n",
        "We need to save both the image features matrix (the PCA-reduced features, not the originals), as well as the array containing the paths to each image, to make sure we can line up the images to their corresponding vectors. It is also best to save `pca` itself so we can project new images into the space if we wish. We can save everything to disk using `pickle`."
      ]
    },
    {
      "cell_type": "code",
      "metadata": {
        "id": "wHvjgviatJme"
      },
      "source": [
        "#import pickle\n",
        "\n",
        "#pickle.dump([images, pca_features, pca], open('/content/features_5cats.p', 'wb'))"
      ],
      "execution_count": null,
      "outputs": []
    },
    {
      "cell_type": "code",
      "metadata": {
        "id": "tCT5ly3F2xvd"
      },
      "source": [
        ""
      ],
      "execution_count": null,
      "outputs": []
    }
  ]
}